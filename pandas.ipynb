{
 "cells": [
  {
   "cell_type": "code",
   "execution_count": 19,
   "id": "10427e26-22f7-4d4e-bc53-79f7fa9180d2",
   "metadata": {},
   "outputs": [],
   "source": [
    "#pip install pandas"
   ]
  },
  {
   "cell_type": "code",
   "execution_count": 4,
   "id": "4eb06ea8-96ef-4ad2-839b-a2dcaa092aa8",
   "metadata": {},
   "outputs": [],
   "source": [
    "import pandas as pd"
   ]
  },
  {
   "cell_type": "code",
   "execution_count": 6,
   "id": "503102af-a619-4fac-b7a1-5c6e592ef146",
   "metadata": {},
   "outputs": [
    {
     "data": {
      "text/plain": [
       "'2.2.2'"
      ]
     },
     "execution_count": 6,
     "metadata": {},
     "output_type": "execute_result"
    }
   ],
   "source": [
    "pd.__version__"
   ]
  },
  {
   "cell_type": "markdown",
   "id": "afa99dc9-2aff-4755-b698-f7c5a43f045a",
   "metadata": {},
   "source": [
    "## **SERIES**"
   ]
  },
  {
   "cell_type": "code",
   "execution_count": 9,
   "id": "26199d19-9a25-4e17-85a9-73356554c7a1",
   "metadata": {},
   "outputs": [],
   "source": [
    "s2=pd.Series(['kamali','khathija','Afra','Pratheeba','pudhu',],index=[1,2,3,4,5])"
   ]
  },
  {
   "cell_type": "code",
   "execution_count": 10,
   "id": "8beab1d6-174a-4d25-8d5e-c3460ab4bd49",
   "metadata": {},
   "outputs": [
    {
     "data": {
      "text/plain": [
       "1       kamali\n",
       "2     khathija\n",
       "3         Afra\n",
       "4    Pratheeba\n",
       "5        pudhu\n",
       "dtype: object"
      ]
     },
     "execution_count": 10,
     "metadata": {},
     "output_type": "execute_result"
    }
   ],
   "source": [
    "s2"
   ]
  },
  {
   "cell_type": "code",
   "execution_count": 11,
   "id": "fd58f602-5471-40df-84cb-667dce8701b2",
   "metadata": {},
   "outputs": [],
   "source": [
    "s3=pd.Series(['No','No','Yes','yes','yes'],index=[1,2,3,4,5])"
   ]
  },
  {
   "cell_type": "code",
   "execution_count": 12,
   "id": "966900e1-96e1-4397-9f9b-06d6646df627",
   "metadata": {},
   "outputs": [
    {
     "data": {
      "text/plain": [
       "1     No\n",
       "2     No\n",
       "3    Yes\n",
       "4    yes\n",
       "5    yes\n",
       "dtype: object"
      ]
     },
     "execution_count": 12,
     "metadata": {},
     "output_type": "execute_result"
    }
   ],
   "source": [
    "s3"
   ]
  },
  {
   "cell_type": "markdown",
   "id": "ffff60af-5da3-4220-9df1-2909947952c4",
   "metadata": {},
   "source": [
    "## **DATA FRAME**"
   ]
  },
  {
   "cell_type": "code",
   "execution_count": 14,
   "id": "e5e88ae2-1748-459b-bd2e-f786b8802225",
   "metadata": {},
   "outputs": [],
   "source": [
    "DF1=pd.DataFrame(s2,columns=['Name'])"
   ]
  },
  {
   "cell_type": "code",
   "execution_count": 15,
   "id": "c9a6ce9a-9e80-44c4-81f3-39bce932fb46",
   "metadata": {},
   "outputs": [
    {
     "data": {
      "text/html": [
       "<div>\n",
       "<style scoped>\n",
       "    .dataframe tbody tr th:only-of-type {\n",
       "        vertical-align: middle;\n",
       "    }\n",
       "\n",
       "    .dataframe tbody tr th {\n",
       "        vertical-align: top;\n",
       "    }\n",
       "\n",
       "    .dataframe thead th {\n",
       "        text-align: right;\n",
       "    }\n",
       "</style>\n",
       "<table border=\"1\" class=\"dataframe\">\n",
       "  <thead>\n",
       "    <tr style=\"text-align: right;\">\n",
       "      <th></th>\n",
       "      <th>Name</th>\n",
       "    </tr>\n",
       "  </thead>\n",
       "  <tbody>\n",
       "    <tr>\n",
       "      <th>1</th>\n",
       "      <td>kamali</td>\n",
       "    </tr>\n",
       "    <tr>\n",
       "      <th>2</th>\n",
       "      <td>khathija</td>\n",
       "    </tr>\n",
       "    <tr>\n",
       "      <th>3</th>\n",
       "      <td>Afra</td>\n",
       "    </tr>\n",
       "    <tr>\n",
       "      <th>4</th>\n",
       "      <td>Pratheeba</td>\n",
       "    </tr>\n",
       "    <tr>\n",
       "      <th>5</th>\n",
       "      <td>pudhu</td>\n",
       "    </tr>\n",
       "  </tbody>\n",
       "</table>\n",
       "</div>"
      ],
      "text/plain": [
       "        Name\n",
       "1     kamali\n",
       "2   khathija\n",
       "3       Afra\n",
       "4  Pratheeba\n",
       "5      pudhu"
      ]
     },
     "execution_count": 15,
     "metadata": {},
     "output_type": "execute_result"
    }
   ],
   "source": [
    "DF1"
   ]
  },
  {
   "cell_type": "code",
   "execution_count": 16,
   "id": "f22c7f71-ee7d-4255-a927-00395d8f1081",
   "metadata": {},
   "outputs": [],
   "source": [
    "Fruits={\"seed\":{1:\"Orange\",2:\"Apple\",3:\"watermelon\"},\"Seedless\":{1:\"Grapes\",2:\"PineApple\",3:\"Papaya\"}}"
   ]
  },
  {
   "cell_type": "code",
   "execution_count": 17,
   "id": "05aa9ac2-f38b-4981-b314-d7e21deac70c",
   "metadata": {},
   "outputs": [],
   "source": [
    "df2=pd.DataFrame(Fruits,columns=[\"seed\",\"Seedless\"])"
   ]
  },
  {
   "cell_type": "code",
   "execution_count": 18,
   "id": "a032fc2d-0561-4e68-a91a-b010d339f1e5",
   "metadata": {},
   "outputs": [
    {
     "data": {
      "text/html": [
       "<div>\n",
       "<style scoped>\n",
       "    .dataframe tbody tr th:only-of-type {\n",
       "        vertical-align: middle;\n",
       "    }\n",
       "\n",
       "    .dataframe tbody tr th {\n",
       "        vertical-align: top;\n",
       "    }\n",
       "\n",
       "    .dataframe thead th {\n",
       "        text-align: right;\n",
       "    }\n",
       "</style>\n",
       "<table border=\"1\" class=\"dataframe\">\n",
       "  <thead>\n",
       "    <tr style=\"text-align: right;\">\n",
       "      <th></th>\n",
       "      <th>seed</th>\n",
       "      <th>Seedless</th>\n",
       "    </tr>\n",
       "  </thead>\n",
       "  <tbody>\n",
       "    <tr>\n",
       "      <th>1</th>\n",
       "      <td>Orange</td>\n",
       "      <td>Grapes</td>\n",
       "    </tr>\n",
       "    <tr>\n",
       "      <th>2</th>\n",
       "      <td>Apple</td>\n",
       "      <td>PineApple</td>\n",
       "    </tr>\n",
       "    <tr>\n",
       "      <th>3</th>\n",
       "      <td>watermelon</td>\n",
       "      <td>Papaya</td>\n",
       "    </tr>\n",
       "  </tbody>\n",
       "</table>\n",
       "</div>"
      ],
      "text/plain": [
       "         seed   Seedless\n",
       "1      Orange     Grapes\n",
       "2       Apple  PineApple\n",
       "3  watermelon     Papaya"
      ]
     },
     "execution_count": 18,
     "metadata": {},
     "output_type": "execute_result"
    }
   ],
   "source": [
    "df2"
   ]
  },
  {
   "cell_type": "markdown",
   "id": "cc3ca6cb-50e7-4985-b2d6-239ad9e98fee",
   "metadata": {},
   "source": [
    "***activity 1***"
   ]
  },
  {
   "cell_type": "markdown",
   "id": "da3a32cf-3845-4588-bec5-14bb84a187dd",
   "metadata": {},
   "source": [
    "create dataframe for a class containning \"Name\", \"Reg no\", \"Year of study\" as column names for 05 students"
   ]
  },
  {
   "cell_type": "code",
   "execution_count": 26,
   "id": "adc06596-ccde-479b-9329-13850e577f60",
   "metadata": {},
   "outputs": [],
   "source": [
    "Students={\"Name\":{1:\"Kamali\",2:\"Khathija\",3:\"Afra\",4:\"Pratheeba\",5:\"pudhumalar\",6:\"Viji\"},\"Reg No\":{1:\"122011012803\",2:\"122011012817\",3:\"122011012820\",4:\"122011012821\",5:\"122011012840\",6:\"122011012836\"},\"Year of Study\":{1:\"IIIYr\",2:\"IIIYr\",3:\"IIIYr\",4:\"IIIYr\",5:\"IIIYr\",6:\"IIIYr\"}}"
   ]
  },
  {
   "cell_type": "code",
   "execution_count": 27,
   "id": "4ae1d29b-e65c-4b7e-a0db-e3b88f0f3bdf",
   "metadata": {},
   "outputs": [],
   "source": [
    "df3=pd.DataFrame(Students,columns=[\"Name\",\"Reg No\",\"Year of Study\"])"
   ]
  },
  {
   "cell_type": "code",
   "execution_count": 28,
   "id": "d241a99d-89f7-48f5-b8f5-9ae4bbc60d09",
   "metadata": {},
   "outputs": [
    {
     "data": {
      "text/html": [
       "<div>\n",
       "<style scoped>\n",
       "    .dataframe tbody tr th:only-of-type {\n",
       "        vertical-align: middle;\n",
       "    }\n",
       "\n",
       "    .dataframe tbody tr th {\n",
       "        vertical-align: top;\n",
       "    }\n",
       "\n",
       "    .dataframe thead th {\n",
       "        text-align: right;\n",
       "    }\n",
       "</style>\n",
       "<table border=\"1\" class=\"dataframe\">\n",
       "  <thead>\n",
       "    <tr style=\"text-align: right;\">\n",
       "      <th></th>\n",
       "      <th>Name</th>\n",
       "      <th>Reg No</th>\n",
       "      <th>Year of Study</th>\n",
       "    </tr>\n",
       "  </thead>\n",
       "  <tbody>\n",
       "    <tr>\n",
       "      <th>1</th>\n",
       "      <td>Kamali</td>\n",
       "      <td>122011012803</td>\n",
       "      <td>IIIYr</td>\n",
       "    </tr>\n",
       "    <tr>\n",
       "      <th>2</th>\n",
       "      <td>Khathija</td>\n",
       "      <td>122011012817</td>\n",
       "      <td>IIIYr</td>\n",
       "    </tr>\n",
       "    <tr>\n",
       "      <th>3</th>\n",
       "      <td>Afra</td>\n",
       "      <td>122011012820</td>\n",
       "      <td>IIIYr</td>\n",
       "    </tr>\n",
       "    <tr>\n",
       "      <th>4</th>\n",
       "      <td>Pratheeba</td>\n",
       "      <td>122011012821</td>\n",
       "      <td>IIIYr</td>\n",
       "    </tr>\n",
       "    <tr>\n",
       "      <th>5</th>\n",
       "      <td>pudhumalar</td>\n",
       "      <td>122011012840</td>\n",
       "      <td>IIIYr</td>\n",
       "    </tr>\n",
       "    <tr>\n",
       "      <th>6</th>\n",
       "      <td>Viji</td>\n",
       "      <td>122011012836</td>\n",
       "      <td>IIIYr</td>\n",
       "    </tr>\n",
       "  </tbody>\n",
       "</table>\n",
       "</div>"
      ],
      "text/plain": [
       "         Name        Reg No Year of Study\n",
       "1      Kamali  122011012803         IIIYr\n",
       "2    Khathija  122011012817         IIIYr\n",
       "3        Afra  122011012820         IIIYr\n",
       "4   Pratheeba  122011012821         IIIYr\n",
       "5  pudhumalar  122011012840         IIIYr\n",
       "6        Viji  122011012836         IIIYr"
      ]
     },
     "execution_count": 28,
     "metadata": {},
     "output_type": "execute_result"
    }
   ],
   "source": [
    "df3"
   ]
  },
  {
   "cell_type": "code",
   "execution_count": null,
   "id": "a2d49864-1081-4eab-b5cf-7696c656fb49",
   "metadata": {},
   "outputs": [],
   "source": []
  }
 ],
 "metadata": {
  "kernelspec": {
   "display_name": "Python 3 (ipykernel)",
   "language": "python",
   "name": "python3"
  },
  "language_info": {
   "codemirror_mode": {
    "name": "ipython",
    "version": 3
   },
   "file_extension": ".py",
   "mimetype": "text/x-python",
   "name": "python",
   "nbconvert_exporter": "python",
   "pygments_lexer": "ipython3",
   "version": "3.9.19"
  }
 },
 "nbformat": 4,
 "nbformat_minor": 5
}
