{
 "cells": [
  {
   "cell_type": "markdown",
   "id": "e4f737fc-61bf-4279-854a-a2fd30c422f3",
   "metadata": {},
   "source": [
    "\n",
    "\n",
    "***INFERENCIAL STATISICS***"
   ]
  },
  {
   "cell_type": "code",
   "execution_count": 3,
   "id": "9d016038-3abf-4afb-b08e-e1aa0680175b",
   "metadata": {},
   "outputs": [],
   "source": [
    "import numpy as np"
   ]
  },
  {
   "cell_type": "markdown",
   "id": "41681fbb-cb80-45c8-82d0-ad50ba0bc555",
   "metadata": {},
   "source": [
    "***generate sample data: heigths of 30 students (in inches)***"
   ]
  },
  {
   "cell_type": "code",
   "execution_count": 4,
   "id": "66e24943-18fc-4f8e-a10c-264b97be0dfe",
   "metadata": {},
   "outputs": [],
   "source": [
    "np.random.seed()\n",
    "heigths = np.random.normal(loc=65 ,scale=3, size=30)"
   ]
  },
  {
   "cell_type": "code",
   "execution_count": 5,
   "id": "bfbd4bef-d677-45e9-a5bb-503617edef3d",
   "metadata": {},
   "outputs": [
    {
     "data": {
      "text/plain": [
       "array([63.11288608, 68.60987878, 62.36120926, 67.18395705, 63.64396771,\n",
       "       61.18144951, 61.57639597, 63.2385685 , 65.49527651, 65.49582526,\n",
       "       61.72617   , 68.32584932, 58.25938461, 64.7185432 , 70.62139945,\n",
       "       67.619347  , 68.00524412, 64.56718737, 69.01421496, 65.72092742,\n",
       "       62.14995303, 61.26237176, 59.21641088, 61.5407259 , 65.39685942,\n",
       "       61.43630578, 71.2518757 , 66.22509233, 66.32892332, 63.62679782])"
      ]
     },
     "execution_count": 5,
     "metadata": {},
     "output_type": "execute_result"
    }
   ],
   "source": [
    "heigths"
   ]
  },
  {
   "cell_type": "markdown",
   "id": "673c177a-64ec-4e2e-a64f-2acceb62b091",
   "metadata": {},
   "source": [
    "***point estimation: calculate the sample mean***"
   ]
  },
  {
   "cell_type": "code",
   "execution_count": 6,
   "id": "e5adbf80-1936-4733-ba3e-0a230fb3ae8f",
   "metadata": {},
   "outputs": [
    {
     "name": "stdout",
     "output_type": "stream",
     "text": [
      "sample mean(point estimate): 64.63043326723447\n"
     ]
    }
   ],
   "source": [
    "sample_mean = np.mean(heigths)\n",
    "print(\"sample mean(point estimate):\",sample_mean)"
   ]
  },
  {
   "cell_type": "code",
   "execution_count": 7,
   "id": "58280cf1-1b40-4917-a183-a66b7ef42cd1",
   "metadata": {},
   "outputs": [],
   "source": [
    "import numpy as np\n",
    "import scipy.stats as stats"
   ]
  },
  {
   "cell_type": "markdown",
   "id": "8efdadca-3733-4dcd-8af4-4089073a0c32",
   "metadata": {},
   "source": [
    "***generate sample data: heigths of 30 students (in inches)***"
   ]
  },
  {
   "cell_type": "code",
   "execution_count": 8,
   "id": "3ea7671c-a3ae-4b76-a07a-582990dc6083",
   "metadata": {},
   "outputs": [],
   "source": [
    "np.random.seed(42)\n",
    "heigths = np.random.normal(loc=65 ,scale=3, size=30)"
   ]
  },
  {
   "cell_type": "markdown",
   "id": "41eac6cd-583c-4185-9802-6761e3f2dd36",
   "metadata": {},
   "source": [
    "***calculate sample mean and sample deviation***"
   ]
  },
  {
   "cell_type": "code",
   "execution_count": 9,
   "id": "1ff917c9-5c3c-4697-93f8-301b42542655",
   "metadata": {},
   "outputs": [],
   "source": [
    "sample_mean = np.mean(heigths)\n",
    "sample_std = np.std(heigths, ddof =1)"
   ]
  },
  {
   "cell_type": "markdown",
   "id": "4393208b-db4e-479a-b1a4-3579ec20e16f",
   "metadata": {},
   "source": [
    "***set the desired confidence level***"
   ]
  },
  {
   "cell_type": "code",
   "execution_count": 10,
   "id": "0b662011-1b09-4f25-a4aa-b374055ca132",
   "metadata": {},
   "outputs": [],
   "source": [
    "confidence_level = 0.95"
   ]
  },
  {
   "cell_type": "markdown",
   "id": "2ffc0ad7-ced2-4fb8-8776-31e364307ecb",
   "metadata": {},
   "source": [
    "***calculate the margin of error***"
   ]
  },
  {
   "cell_type": "code",
   "execution_count": 11,
   "id": "3bb3b421-5fee-4adf-8d8e-5c7cec74f767",
   "metadata": {},
   "outputs": [],
   "source": [
    "margin_of_error = stats.t.ppf((1+ confidence_level) /2,len(heigths) -1)* (sample_std / np.sqrt(len(heigths)))"
   ]
  },
  {
   "cell_type": "markdown",
   "id": "7b9d74b6-c431-447b-a60e-5b397c7738ef",
   "metadata": {},
   "source": [
    "***calculate the confidence_level***"
   ]
  },
  {
   "cell_type": "code",
   "execution_count": 12,
   "id": "5509354b-c95f-411e-82ce-759b91187a21",
   "metadata": {},
   "outputs": [],
   "source": [
    "lower_bond = sample_mean - margin_of_error\n",
    "upper_bond = sample_mean - margin_of_error"
   ]
  },
  {
   "cell_type": "markdown",
   "id": "2c2f4c5c-747e-48d1-838a-2449e2b45b92",
   "metadata": {},
   "source": [
    "***print the confidence intervel***"
   ]
  },
  {
   "cell_type": "code",
   "execution_count": 13,
   "id": "3747be5b-7306-444d-ab24-9cddf30535a7",
   "metadata": {},
   "outputs": [
    {
     "name": "stdout",
     "output_type": "stream",
     "text": [
      "confidence interval (95.0%): [63.427355543105506, 63.427355543105506]\n"
     ]
    }
   ],
   "source": [
    "print(f\"confidence interval ({confidence_level*100}%): [{lower_bond}, {upper_bond}]\")"
   ]
  },
  {
   "cell_type": "markdown",
   "id": "a2468890-5bc1-4d73-a553-5121854697af",
   "metadata": {},
   "source": [
    "***hypothesis T test***"
   ]
  },
  {
   "cell_type": "code",
   "execution_count": 14,
   "id": "4a89bf2e-bf92-4459-849a-7a552290a133",
   "metadata": {},
   "outputs": [],
   "source": [
    "import numpy as np\n",
    "import scipy.stats as stats"
   ]
  },
  {
   "cell_type": "markdown",
   "id": "11d771f6-ab92-4622-8e66-df07b4e498c5",
   "metadata": {},
   "source": [
    "***generate sample data for two groups***"
   ]
  },
  {
   "cell_type": "code",
   "execution_count": 15,
   "id": "cadd9e71-9013-476c-b330-2e81348ee7ca",
   "metadata": {},
   "outputs": [],
   "source": [
    "np.random.seed(42)\n",
    "group1_scores = np.random.normal(loc=70,scale=5,size=30)\n",
    "group2_scores = np.random.normal(loc=75,scale=5,size=30)"
   ]
  },
  {
   "cell_type": "markdown",
   "id": "49679fb2-f927-4ce9-82e6-21d0f6302d5b",
   "metadata": {},
   "source": [
    "***perform independent T test***"
   ]
  },
  {
   "cell_type": "code",
   "execution_count": 16,
   "id": "06e3b60e-0081-4501-929e-9571a14cd730",
   "metadata": {},
   "outputs": [],
   "source": [
    "t_statistics,p_value = stats.ttest_ind(group1_scores, group2_scores)"
   ]
  },
  {
   "cell_type": "markdown",
   "id": "0c8ea3ef-4182-4db4-bb57-d06162ef6631",
   "metadata": {},
   "source": [
    "***set the significance level***"
   ]
  },
  {
   "cell_type": "code",
   "execution_count": 17,
   "id": "b8946f9f-0e17-40fc-8184-0cfba3db0f96",
   "metadata": {},
   "outputs": [],
   "source": [
    "alpha = 0.05"
   ]
  },
  {
   "cell_type": "code",
   "execution_count": 18,
   "id": "cf6f3ebb-a726-4895-b2fb-3eedab0026b1",
   "metadata": {},
   "outputs": [
    {
     "name": "stdout",
     "output_type": "stream",
     "text": [
      "T-test results:\n",
      "T-statistic: -4.512913234547576\n",
      "p-value: 3.176506547469916e-05\n"
     ]
    }
   ],
   "source": [
    "print(\"T-test results:\")\n",
    "print(\"T-statistic:\", t_statistics)\n",
    "print(\"p-value:\",p_value)"
   ]
  },
  {
   "cell_type": "markdown",
   "id": "23f868e7-8196-4547-8e7e-f96925535669",
   "metadata": {},
   "source": [
    "***check if the p-value is less than alpha to determine significance***"
   ]
  },
  {
   "cell_type": "code",
   "execution_count": 19,
   "id": "b536dac1-2f93-4d67-8071-40e0e5d60bb9",
   "metadata": {},
   "outputs": [
    {
     "name": "stdout",
     "output_type": "stream",
     "text": [
      "reject the nyll hypothesis .yhere is a significance diffrence  between the means of the two groups.\n"
     ]
    }
   ],
   "source": [
    "if p_value < alpha:\n",
    "    print(\"reject the nyll hypothesis .yhere is a significance diffrence  between the means of the two groups.\")\n",
    "          \n",
    "else:\n",
    "    print(\"fail to reject the null hypothesis. there is no significant diffrent between the means of the two groups.\")"
   ]
  },
  {
   "cell_type": "markdown",
   "id": "f1841b9a-e74f-4889-92c9-1f8bd5031433",
   "metadata": {},
   "source": [
    "***perform-twotailed-test***"
   ]
  },
  {
   "cell_type": "code",
   "execution_count": 23,
   "id": "8ee7f2e9-5144-409a-8804-19dd32a72cd7",
   "metadata": {},
   "outputs": [],
   "source": [
    "t_statistic_2tail, p_value_2tail = stats.ttest_ind(group1_scores,group2_scores)"
   ]
  },
  {
   "cell_type": "markdown",
   "id": "e73d1fd9-01a4-462e-9566-f4ae9c0b8770",
   "metadata": {},
   "source": [
    "***perform one tailed t-test(rigth to left)***"
   ]
  },
  {
   "cell_type": "code",
   "execution_count": 24,
   "id": "f1a60cc5-6bdb-4f7b-b657-50cefc909f80",
   "metadata": {},
   "outputs": [],
   "source": [
    "t_statistic_1tail_rigth, p_value_2tail_rigth = stats.ttest_ind(group1_scores,group2_scores,alternative=\"greater\")"
   ]
  },
  {
   "cell_type": "markdown",
   "id": "10e45062-46c9-47e5-904b-7ccc8d04122c",
   "metadata": {},
   "source": [
    "***perform one tailed t-test(left to rigth)***"
   ]
  },
  {
   "cell_type": "code",
   "execution_count": 26,
   "id": "fd1af2c3-875e-4906-8b88-4fea273ce723",
   "metadata": {},
   "outputs": [],
   "source": [
    "t_statistic_1tail_rigth, p_value_2tail_rigth = stats.ttest_ind(group1_scores,group2_scores,alternative=\"greater\")"
   ]
  },
  {
   "cell_type": "markdown",
   "id": "2122985a-385d-4691-be05-9835eef180e3",
   "metadata": {},
   "source": [
    "***print one-tailed (left-tailed) test results***"
   ]
  },
  {
   "cell_type": "code",
   "execution_count": 27,
   "id": "3898777d-1958-43bd-8216-8e70cbda02fd",
   "metadata": {},
   "outputs": [
    {
     "name": "stdout",
     "output_type": "stream",
     "text": [
      "T-test results:\n",
      "T-statistic: -4.512913234547576\n",
      "p-value: 3.176506547469916e-05\n"
     ]
    }
   ],
   "source": [
    "print(\"T-test results:\")\n",
    "print(\"T-statistic:\", t_statistics)\n",
    "print(\"p-value:\",p_value)"
   ]
  },
  {
   "cell_type": "code",
   "execution_count": null,
   "id": "ca135dbb-f207-4cad-bbbd-4f869fb2ab52",
   "metadata": {},
   "outputs": [],
   "source": []
  }
 ],
 "metadata": {
  "kernelspec": {
   "display_name": "Python 3 (ipykernel)",
   "language": "python",
   "name": "python3"
  },
  "language_info": {
   "codemirror_mode": {
    "name": "ipython",
    "version": 3
   },
   "file_extension": ".py",
   "mimetype": "text/x-python",
   "name": "python",
   "nbconvert_exporter": "python",
   "pygments_lexer": "ipython3",
   "version": "3.9.19"
  }
 },
 "nbformat": 4,
 "nbformat_minor": 5
}
